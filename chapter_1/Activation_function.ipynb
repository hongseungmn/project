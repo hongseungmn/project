{
 "cells": [
  {
   "cell_type": "code",
   "execution_count": null,
   "metadata": {},
   "outputs": [
    {
     "ename": "",
     "evalue": "",
     "output_type": "error",
     "traceback": [
      "\u001b[1;31m'Python 3.7.13'(으)로 셀을 실행하려면 ipykernel 패키지가 필요합니다.\n",
      "다음 명령어를 실행하여 Python 환경에 'ipykernel'을(를) 설치합니다. \r\n",
      " 명령: 'conda install -p /Users/hongseongmin/opt/anaconda3/envs/jeju ipykernel --update-deps --force-reinstall'"
     ]
    }
   ],
   "source": [
    "import numpy as np\n",
    "import matplotlib.pyplot as plt"
   ]
  },
  {
   "cell_type": "code",
   "execution_count": null,
   "metadata": {},
   "outputs": [],
   "source": []
  }
 ],
 "metadata": {
  "kernelspec": {
   "display_name": "Python 3.7.13",
   "language": "python",
   "name": "python3"
  },
  "language_info": {
   "codemirror_mode": {
    "name": "ipython",
    "version": 3
   },
   "file_extension": ".py",
   "mimetype": "text/x-python",
   "name": "python",
   "nbconvert_exporter": "python",
   "pygments_lexer": "ipython3",
   "version": "3.7.13"
  },
  "orig_nbformat": 4,
  "vscode": {
   "interpreter": {
    "hash": "5990bb013d7323b94a9db8cd673005a6b8aee85eda1ac3114b45d45fc30cbb00"
   }
  }
 },
 "nbformat": 4,
 "nbformat_minor": 2
}
